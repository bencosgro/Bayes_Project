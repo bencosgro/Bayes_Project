{
 "cells": [
  {
   "cell_type": "markdown",
   "metadata": {},
   "source": [
    "\n",
    "<h1><center> Cancerous Tumor Prediction</center></h1>\n",
    "\n",
    "DS 6014\n",
    "\n",
    "Dr. Donald E. Brown\n",
    "\n",
    "December 8, 2020\n",
    "\n",
    "Project Report\n",
    "\n",
    "Benjamin Cosgro, Pantea Ferdosian, Joon Yuhl Soh\n",
    "\n",
    "### Problem Description:\n",
    "\n",
    "The problem that our group decided to work on is predicting the probability of malignant cancer tumors found in breast tissue based on cell biopsies. Our variables are types of measurements of the cells examined in those biopsies. Our purpose is to find out how much these features can help us in order to predict such important information for any potential patients. \n",
    "\n",
    "### More About Breast Cancer:\n",
    "\n",
    "There are two types of breast cancer tumors: those that are non-cancerous or \"benign\" and those that are cancerous, which are \"malignant\".\n",
    "\n",
    "#### Benign Tumors\n",
    "\n",
    "If a tumor is benign, the doctors would ususally leave it rather than remove it. Most of the time these tumors are harmless to other tissues of the body. If they continue to grow and cause pain or any discomfort, then they would be removed. \n",
    "\n",
    "#### Malignant Tumors\n",
    "\n",
    "Malignant tumors are cancerous and aggressive because they would expand and damage the surrounding tissue. When  doctors suspect a tumor be malignant, they would perform a biopsy to determine severe the tumor is. The malignant tumors could also spread to other parts of the body, usually through the lymph system, and form a secondary tumor.\n",
    "\n",
    "\n",
    "### Mathematical Linkange Between The Problem and The Method\n",
    "\n",
    "We were given measurements of average cell per biopsy and the worst cell per biopsy. \n",
    "For this project, we chose to model the training set using the GLM logistic regression in pymc3 on the average cells, and perform the testing on the \"worst\" cells. \n",
    "\n",
    "\n",
    "We cleaned the dataset, analyzed the possible correlations, and used the variance inflation factor (VIF) method in order to diagnose multicollinearity.    \n",
    "\n",
    "After doing the above steps, we assumed that the probability of a tumor being *malignant* is a function of *concavity* and *symmetry* when using the average cells. \n",
    "\n",
    "After looking at the results using the *concavity* and *symmetry*, the traceplots generated indicated that *symmetry* was not significant in the model. Therefore, we decided to drop *symmetry* as well and only make predictions on the *concavity* variable. \n",
    "\n",
    "Finally, we get the following interpretation formula: \n",
    "\n",
    "$$logit = z = \\beta _0 + \\beta_1(concavity)$$\n",
    "\n",
    "$ y = 1$ indicating malignancy and $y=0$ indicating benign tumor.\n",
    "\n",
    "And the likelihood or $p(Concavity|Malignance)$ is given by $\\prod_{1=1}^{n} p_i^y(1-p_i)^{1-y_i}$ where $p$ is the probability of output\n",
    "\n",
    "$$p = \\frac{1}{1+e^{-z}}$$\n",
    "\n",
    "For this problem, we are are attempting to find the probability that a tumor is benign or malignant given the features mentioned in the dataset $$p(Malignance|Concavity)$$\n",
    "\n",
    "The `.glm()` function in PyMC3 would do all the modeling for us using the Hamiltonian Monte Carlo method called the NUTS (no u-turn sampling) and in this case, the parameters would be tuned automatically. \n",
    "\n",
    "#### Hamiltonian Monte Carlo\n",
    "\n",
    "Hamiltonian Monte Carlo is one of the newer variations of the Markov Chain Monte Carlo (MCMC) methods. This method improves the computational limitations of Metropolis-Hasting and makes it more efficient. Hamiltonian Monte Carlo requires gradient information which is often not readily available to us, but PyMC3 uses Theano to compute those gradients. \n"
   ]
  },
  {
   "cell_type": "markdown",
   "metadata": {},
   "source": [
    "References\n",
    "\n",
    "[Problem description] https://www.nationalbreastcancer.org/breast-tumors/"
   ]
  },
  {
   "cell_type": "code",
   "execution_count": null,
   "metadata": {},
   "outputs": [],
   "source": []
  }
 ],
 "metadata": {
  "kernelspec": {
   "display_name": "Python 3",
   "language": "python",
   "name": "python3"
  },
  "language_info": {
   "codemirror_mode": {
    "name": "ipython",
    "version": 3
   },
   "file_extension": ".py",
   "mimetype": "text/x-python",
   "name": "python",
   "nbconvert_exporter": "python",
   "pygments_lexer": "ipython3",
   "version": "3.7.6"
  }
 },
 "nbformat": 4,
 "nbformat_minor": 4
}
